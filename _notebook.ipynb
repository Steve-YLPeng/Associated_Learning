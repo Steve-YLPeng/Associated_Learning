{
 "cells": [
  {
   "cell_type": "markdown",
   "metadata": {},
   "source": [
    "### RNN training"
   ]
  },
  {
   "cell_type": "code",
   "execution_count": null,
   "metadata": {},
   "outputs": [],
   "source": [
    "!python3 train_rnn.py \\\n",
    "--dataset ag_news \\\n",
    "--model transformeral \\\n",
    "--epoch 20 \\\n",
    "--max-len 177 \\\n",
    "--num-layer 4 \\\n",
    "--batch-train 256 --batch-test 512 \\\n",
    "--lr 0.0001 \\\n",
    "--l1-dim 300 --label-emb 128 \\\n",
    "--save-dir ./ckpt/ "
   ]
  },
  {
   "cell_type": "markdown",
   "metadata": {},
   "source": [
    "### CNN training"
   ]
  },
  {
   "cell_type": "code",
   "execution_count": null,
   "metadata": {},
   "outputs": [],
   "source": [
    "!python3 train_cnn.py \\\n",
    "--dataset cifar10 \\\n",
    "--model VGG_AL \\\n",
    "--epoch 100 \\\n",
    "--batch-train 128 --batch-test 1024 \\\n",
    "--lr 0.0001 \\\n",
    "--label-emb 500 \\\n",
    "--save-dir ./ckpt/ "
   ]
  },
  {
   "cell_type": "markdown",
   "metadata": {},
   "source": [
    "### RNN layer-by-layer training"
   ]
  },
  {
   "cell_type": "code",
   "execution_count": null,
   "metadata": {},
   "outputs": [],
   "source": [
    "!python3 train_rnn_lbl.py \\\n",
    "--dataset ag_news --max-len 177 \\\n",
    "--model transformeral \\\n",
    "--epoch 80 \\\n",
    "--num-layer 4 \\\n",
    "--batch-train 256 --batch-test 512 \\\n",
    "--lr 0.0001 \\\n",
    "--l1-dim 300 --label-emb 128 \\\n",
    "--save-dir ./ckpt/ "
   ]
  },
  {
   "cell_type": "markdown",
   "metadata": {},
   "source": [
    "### CNN layer-by-layer training"
   ]
  },
  {
   "cell_type": "code",
   "execution_count": null,
   "metadata": {},
   "outputs": [],
   "source": [
    "!python3 train_cnn_lbl.py \\\n",
    "--dataset cifar10 \\\n",
    "--model VGG_AL \\\n",
    "--epoch 400 \\\n",
    "--batch-train 128 --batch-test 1024 \\\n",
    "--lr 0.0001 \\\n",
    "--label-emb 500 \\\n",
    "--save-dir ./ckpt/ "
   ]
  },
  {
   "cell_type": "markdown",
   "metadata": {},
   "source": [
    "### RNN sideinput training"
   ]
  },
  {
   "cell_type": "code",
   "execution_count": null,
   "metadata": {},
   "outputs": [],
   "source": [
    "!python3 train_rnn.py \\\n",
    "--dataset imdb \\\n",
    "--model transformeralside \\\n",
    "--epoch 20 \\\n",
    "--max-len 400 \\\n",
    "--num-layer 4 \\\n",
    "--batch-train 256 --batch-test 512 \\\n",
    "--lr 0.0001 \\\n",
    "--l1-dim 300 --label-emb 128 \\\n",
    "--save-dir ./ckpt/ \\\n",
    "--side-dim 100-100-100-100"
   ]
  },
  {
   "cell_type": "code",
   "execution_count": null,
   "metadata": {},
   "outputs": [],
   "source": []
  }
 ],
 "metadata": {
  "kernelspec": {
   "display_name": "Python 3.9.12 ('base')",
   "language": "python",
   "name": "python3"
  },
  "language_info": {
   "codemirror_mode": {
    "name": "ipython",
    "version": 3
   },
   "file_extension": ".py",
   "mimetype": "text/x-python",
   "name": "python",
   "nbconvert_exporter": "python",
   "pygments_lexer": "ipython3",
   "version": "3.9.12"
  },
  "vscode": {
   "interpreter": {
    "hash": "d4d1e4263499bec80672ea0156c357c1ee493ec2b1c70f0acce89fc37c4a6abe"
   }
  }
 },
 "nbformat": 4,
 "nbformat_minor": 2
}
