{
 "cells": [
  {
   "cell_type": "code",
   "execution_count": 81,
   "id": "bbac891a",
   "metadata": {},
   "outputs": [
    {
     "name": "stdout",
     "output_type": "stream",
     "text": [
      "Start Training\n",
      "  0%|                                                   | 0/258 [00:00<?, ?it/s]/home/AL_main_new/utils.py:99: UserWarning: Creating a tensor from a list of numpy.ndarrays is extremely slow. Please consider converting the list to a single numpy.ndarray with numpy.array() before converting to a tensor. (Triggered internally at  ../torch/csrc/utils/tensor_new.cpp:201.)\n",
      "  x = torch.tensor([x for x,y in batch], dtype=torch.float32)\n",
      "Train 0 | out_loss 0.6403655409812927: 100%|█| 258/258 [00:01<00:00, 190.26it/s]\n",
      "Train Epoch0 out_loss 0.4100678861141205, R2 0.589984655380249\n",
      "Test Epoch0 layer0 out_loss 0.3176153004169464, R2 0.682165265083313\n",
      "Test Epoch0 layer1 out_loss 0.2983078360557556, R2 0.7014861106872559\n",
      "Test Epoch0 layer2 out_loss 0.2951917052268982, R2 0.7046043872833252\n",
      "Test Epoch0 layer3 out_loss 0.29966121912002563, R2 0.7001317739486694\n",
      "Test Epoch0 layer4 out_loss 0.29881009459495544, R2 0.7009835243225098\n",
      "Best r2 0.7046043872833252 at L2\n",
      "Figure(640x480)\n",
      "Figure(640x480)\n",
      "Figure(640x480)\n",
      "Figure(640x480)\n",
      "Start Testing\n"
     ]
    }
   ],
   "source": [
    "# LinearAL \n",
    "\n",
    "data = \"ca_housing\"\n",
    "#data = \"paint\"\n",
    "model =  \"linearal\"\n",
    "#for layer in range(1,11):\n",
    "for layer in [5]:\n",
    "    log = f\"result/{data}/{data}_{model}_l{layer}.log\"\n",
    "    !mkdir result/{data}/\n",
    "    !mkdir ckpt/{data}/\n",
    "    !python3 dis_train_al.py --dataset {data} --model {model} --epoch 100 --num-layer {layer} --lr 0.001 --task regression # > {log}"
   ]
  },
  {
   "cell_type": "code",
   "execution_count": 96,
   "id": "f7a8d985",
   "metadata": {},
   "outputs": [
    {
     "name": "stdout",
     "output_type": "stream",
     "text": [
      "  0%|                                                 | 0/12500 [00:00<?, ?it/s]/home/AL_main_new/utils.py:99: UserWarning: Creating a tensor from a list of numpy.ndarrays is extremely slow. Please consider converting the list to a single numpy.ndarray with numpy.array() before converting to a tensor. (Triggered internally at  ../torch/csrc/utils/tensor_new.cpp:201.)\n",
      "  x = torch.tensor([x for x,y in batch], dtype=torch.float32)\n",
      "Train 0 | Acc 0.74409125 (595273/800000): 100%|█| 12500/12500 [01:46<00:00, 116.\n",
      "Train 1 | Acc 0.74518375 (596147/800000): 100%|█| 12500/12500 [01:51<00:00, 111.\n",
      "Train 2 | Acc 0.74518375 (596147/800000): 100%|█| 12500/12500 [01:58<00:00, 105.\n",
      "Train 3 | Acc 0.74518375 (596147/800000): 100%|█| 12500/12500 [01:56<00:00, 106.\n",
      "Train 4 | Acc 0.74518375 (596147/800000): 100%|█| 12500/12500 [01:44<00:00, 119.\n",
      "Train 5 | Acc 0.74518375 (596147/800000): 100%|█| 12500/12500 [01:41<00:00, 122.\n",
      "Train 6 | Acc 0.74518375 (596147/800000): 100%|█| 12500/12500 [01:45<00:00, 118.\n",
      "Train 7 | Acc 0.74518375 (596147/800000): 100%|█| 12500/12500 [01:57<00:00, 106.\n",
      "Train 8 | Acc 0.74518375 (596147/800000): 100%|█| 12500/12500 [01:45<00:00, 118.\n",
      "Train 9 | Acc 0.74518375 (596147/800000): 100%|█| 12500/12500 [01:51<00:00, 111.\n"
     ]
    }
   ],
   "source": [
    "# LinearAL \n",
    "data = \"criteo\"\n",
    "\n",
    "model =  \"linearal\"\n",
    "#for layer in range(1,11):\n",
    "for layer in [5]:\n",
    "    log = f\"result/{data}/{data}_{model}_l{layer}.log\"\n",
    "    !mkdir result/{data}/\n",
    "    !mkdir ckpt/{data}/\n",
    "    !python3 dis_train_al.py --dataset {data} --model {model} --epoch 10 --num-layer {layer} --task classification --lr 0.0001 --l1-dim 300 --label-emb 128 > {log}"
   ]
  },
  {
   "cell_type": "code",
   "execution_count": 1,
   "id": "6ae70865",
   "metadata": {},
   "outputs": [
    {
     "name": "stdout",
     "output_type": "stream",
     "text": [
      "mkdir: cannot create directory ‘result/kdd99/’: File exists\n",
      "  0%|                                                  | 0/3087 [00:00<?, ?it/s]/home/AL_main_new/utils.py:408: UserWarning: Creating a tensor from a list of numpy.ndarrays is extremely slow. Please consider converting the list to a single numpy.ndarray with numpy.array() before converting to a tensor. (Triggered internally at  ../torch/csrc/utils/tensor_new.cpp:201.)\n",
      "  x = torch.tensor([x for x,y in batch], dtype=torch.float32)\n",
      "Train 0 | Acc 0.9258663021742982 (365782/395070): 100%|█| 3087/3087 [00:26<00:00\n",
      "Train 1 | Acc 0.9911762472473232 (391584/395070): 100%|█| 3087/3087 [00:25<00:00\n",
      "Train 2 | Acc 0.9966411015769358 (393743/395070): 100%|█| 3087/3087 [00:25<00:00\n",
      "Train 3 | Acc 0.9974434910269067 (394060/395070): 100%|█| 3087/3087 [00:25<00:00\n",
      "Train 4 | Acc 0.9978003898043385 (394201/395070): 100%|█| 3087/3087 [00:25<00:00\n",
      "Train 5 | Acc 0.9980965398536968 (394318/395070): 100%|█| 3087/3087 [00:25<00:00\n",
      "Train 6 | Acc 0.9982762548409143 (394389/395070): 100%|█| 3087/3087 [00:25<00:00\n",
      "Train 7 | Acc 0.9983775027210368 (394429/395070): 100%|█| 3087/3087 [00:25<00:00\n",
      "Train 8 | Acc 0.9984180018730858 (394445/395070): 100%|█| 3087/3087 [00:25<00:00\n",
      "Train 9 | Acc 0.9984509074341256 (394458/395070): 100%|█| 3087/3087 [00:25<00:00\n",
      "Train 10 | Acc 0.9984357202521073 (394452/395070): 100%|█| 3087/3087 [00:25<00:0\n",
      "Train 11 | Acc 0.9984939377831776 (394475/395070): 100%|█| 3087/3087 [00:25<00:0\n",
      "Train 12 | Acc 0.9984939377831776 (394475/395070): 100%|█| 3087/3087 [00:25<00:0\n",
      "Train 13 | Acc 0.998506593768193 (394480/395070): 100%|█| 3087/3087 [00:25<00:00\n",
      "Train 14 | Acc 0.9985268433442175 (394488/395070): 100%|█| 3087/3087 [00:25<00:0\n",
      "Train 15 | Acc 0.9985167185562053 (394484/395070): 100%|█| 3087/3087 [00:25<00:0\n",
      "Train 16 | Acc 0.9985597489052573 (394501/395070): 100%|█| 3087/3087 [00:25<00:0\n",
      "Train 17 | Acc 0.9985673424962664 (394504/395070): 100%|█| 3087/3087 [00:25<00:0\n",
      "Train 18 | Acc 0.9985825296782849 (394510/395070): 100%|█| 3087/3087 [00:25<00:0\n",
      "Train 19 | Acc 0.9986027792543094 (394518/395070): 100%|█| 3087/3087 [00:25<00:0\n",
      "Train 20 | Acc 0.9986179664363277 (394524/395070): 100%|█| 3087/3087 [00:25<00:0\n",
      "Train 21 | Acc 0.9986002480573063 (394517/395070): 100%|█| 3087/3087 [00:25<00:0\n",
      "Train 22 | Acc 0.9986230288303338 (394526/395070): 100%|█| 3087/3087 [00:25<00:0\n",
      "Train 23 | Acc 0.9986179664363277 (394524/395070): 100%|█| 3087/3087 [00:25<00:0\n",
      "Train 24 | Acc 0.998630622421343 (394529/395070): 100%|█| 3087/3087 [00:25<00:00\n",
      "Train 25 | Acc 0.9986483408003645 (394536/395070): 100%|█| 3087/3087 [00:25<00:0\n",
      "Train 26 | Acc 0.9986483408003645 (394536/395070): 100%|█| 3087/3087 [00:25<00:0\n",
      "Train 27 | Acc 0.9986483408003645 (394536/395070): 100%|█| 3087/3087 [00:25<00:0\n",
      "Train 28 | Acc 0.9986432784063584 (394534/395070): 100%|█| 3087/3087 [00:25<00:0\n",
      "Train 29 | Acc 0.9986736527703951 (394546/395070): 100%|█| 3087/3087 [00:25<00:0\n"
     ]
    }
   ],
   "source": [
    "# LinearAL \n",
    "data = \"kdd99\"\n",
    "\n",
    "model =  \"linearal\"\n",
    "#for layer in range(1,11):\n",
    "for layer in [8]:\n",
    "    log = f\"result/{data}/{data}_{model}_l{layer}.log\"\n",
    "    !mkdir result/{data}/\n",
    "    !mkdir ckpt/{data}/\n",
    "    !python3 dis_train_al.py --dataset {data} --model {model} --epoch 30 --num-layer {layer} --batch-size 128 --lr 0.0001 --l1-dim 256 --label-emb 128 --task classification > {log}"
   ]
  },
  {
   "cell_type": "code",
   "execution_count": 95,
   "id": "7675b11d",
   "metadata": {},
   "outputs": [
    {
     "name": "stdout",
     "output_type": "stream",
     "text": [
      "  0%|                                                  | 0/6173 [00:00<?, ?it/s]/home/AL_main_new/utils.py:99: UserWarning: Creating a tensor from a list of numpy.ndarrays is extremely slow. Please consider converting the list to a single numpy.ndarray with numpy.array() before converting to a tensor. (Triggered internally at  ../torch/csrc/utils/tensor_new.cpp:201.)\n",
      "  x = torch.tensor([x for x,y in batch], dtype=torch.float32)\n",
      "Train 0 | Acc 0.9464601209912168 (373918/395070): 100%|█| 6173/6173 [00:44<00:00\n",
      "Train 1 | Acc 0.993707444250386 (392584/395070): 100%|█| 6173/6173 [00:43<00:00,\n",
      "Train 2 | Acc 0.9955273748955881 (393303/395070): 100%|█| 6173/6173 [00:42<00:00\n",
      "Train 3 | Acc 0.9958235249449464 (393420/395070): 100%|█| 6173/6173 [00:43<00:00\n",
      "Train 4 | Acc 0.9961576429493507 (393552/395070): 100%|█| 6173/6173 [00:43<00:00\n",
      "Train 5 | Acc 0.9966588199559572 (393750/395070): 100%|█| 6173/6173 [00:43<00:00\n",
      "Train 6 | Acc 0.9970764674614625 (393915/395070): 100%|█| 6173/6173 [00:42<00:00\n",
      "Train 7 | Acc 0.9973219935707596 (394012/395070): 100%|█| 6173/6173 [00:43<00:00\n",
      "Train 8 | Acc 0.9975573948920444 (394105/395070): 100%|█| 6173/6173 [00:42<00:00\n",
      "Train 9 | Acc 0.9977295162882527 (394173/395070): 100%|█| 6173/6173 [00:43<00:00\n"
     ]
    }
   ],
   "source": [
    "# LinearAL side \n",
    "data = \"kdd99\"\n",
    "\n",
    "model =  \"linearalside\"\n",
    "#for layer in range(1,11):\n",
    "for layer in [8]:\n",
    "    log = f\"result/{data}/{data}_{model}_l{layer}.log\"\n",
    "    !mkdir result/{data}/\n",
    "    !mkdir ckpt/{data}/\n",
    "    !python3 dis_train_al.py --dataset {data} --model {model} --epoch 10 --num-layer {layer} --task classification --lr 0.0001 --l1-dim 128 --label-emb 128 > {log}"
   ]
  }
 ],
 "metadata": {
  "kernelspec": {
   "display_name": "Python 3.9.12 ('base')",
   "language": "python",
   "name": "python3"
  },
  "language_info": {
   "codemirror_mode": {
    "name": "ipython",
    "version": 3
   },
   "file_extension": ".py",
   "mimetype": "text/x-python",
   "name": "python",
   "nbconvert_exporter": "python",
   "pygments_lexer": "ipython3",
   "version": "3.9.12"
  },
  "vscode": {
   "interpreter": {
    "hash": "d4d1e4263499bec80672ea0156c357c1ee493ec2b1c70f0acce89fc37c4a6abe"
   }
  }
 },
 "nbformat": 4,
 "nbformat_minor": 5
}
