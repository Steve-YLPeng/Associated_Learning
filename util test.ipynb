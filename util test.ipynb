{
 "cells": [
  {
   "cell_type": "code",
   "execution_count": 119,
   "id": "a3437450",
   "metadata": {},
   "outputs": [],
   "source": [
    "import torch\n",
    "import math\n",
    "x = torch.tensor([[1/3,1/3,1/3],[1.,.0,.0],[.1,.4,.5],[.1,.1,.8]], dtype=torch.float32)\n",
    "batch_size = 4\n",
    "label_size = 3\n",
    "threshold = 0.75"
   ]
  },
  {
   "cell_type": "code",
   "execution_count": 120,
   "id": "ba1e2d71",
   "metadata": {},
   "outputs": [],
   "source": [
    "\n",
    "entr = torch.ones(batch_size, requires_grad=False) #[batch_size] \n",
    "pred = torch.zeros((batch_size,label_size), requires_grad=False) #[batch_size, label_size]\n",
    "total_remain_idx = torch.ones(batch_size, dtype=torch.bool) #[batch_size]"
   ]
  },
  {
   "cell_type": "code",
   "execution_count": 121,
   "id": "42295a15",
   "metadata": {},
   "outputs": [
    {
     "name": "stdout",
     "output_type": "stream",
     "text": [
      "\n",
      "0\n",
      "total tensor([True, True, True, True])\n",
      "remain tensor([False,  True, False, False])\n",
      "entr tensor([0.6301, 0.8748, 0.6448, 0.7467])\n",
      "pred tensor([[0.1885, 0.6032, 0.9243],\n",
      "        [0.6999, 0.4833, 0.4469],\n",
      "        [0.3601, 0.6562, 0.9337],\n",
      "        [0.1973, 0.4342, 0.8504]])\n",
      "x tensor([[0.3333, 0.3333, 0.3333],\n",
      "        [1.0000, 0.0000, 0.0000],\n",
      "        [0.1000, 0.4000, 0.5000],\n",
      "        [0.1000, 0.1000, 0.8000]])\n",
      "x_remain tensor([[1., 0., 0.]])\n",
      "\n",
      "1\n",
      "total tensor([False,  True, False, False])\n",
      "remain tensor([False])\n",
      "entr tensor([0.6301, 0.6062, 0.6448, 0.7467])\n",
      "pred tensor([[0.1885, 0.6032, 0.9243],\n",
      "        [0.4177, 0.0882, 0.9086],\n",
      "        [0.3601, 0.6562, 0.9337],\n",
      "        [0.1973, 0.4342, 0.8504]])\n",
      "x tensor([[1., 0., 0.]])\n",
      "x_remain tensor([], size=(0, 3))\n"
     ]
    }
   ],
   "source": [
    "x_out = x\n",
    "#for idx in range(self.num_layer):\n",
    "for idx in range(5):\n",
    "    # f forward\n",
    "    #x_out = self.layer_forward(x_out, idx, mask)\n",
    "    # return form b/h\n",
    "    #y_out = self.bridge_return(x_out, idx, mask)\n",
    "    y_out = torch.rand(x_out.size())\n",
    "\n",
    "    y_entr = torch.sum(torch.special.entr(y_out),dim=-1) / math.log(y_out.size(-1))\n",
    "\n",
    "    total_remain_idx = entr>threshold\n",
    "    entr[total_remain_idx] = y_entr\n",
    "    pred[total_remain_idx,:] = y_out\n",
    "    \n",
    "    remain_idx = y_entr>threshold\n",
    "    print(f\"\\n{idx}\")\n",
    "    print(\"total\",total_remain_idx)\n",
    "    print(\"remain\",remain_idx)\n",
    "    print(\"entr\",entr)\n",
    "    print(\"pred\",pred)\n",
    "    print(\"x\",x_out)\n",
    "    x_out = x_out[remain_idx,:]\n",
    "    \n",
    "    \n",
    "    print(\"x_remain\",x_out)\n",
    "    if x_out.size(0) == 0:\n",
    "        break\n"
   ]
  },
  {
   "cell_type": "code",
   "execution_count": 53,
   "id": "6d777668",
   "metadata": {},
   "outputs": [
    {
     "data": {
      "text/plain": [
       "tensor([[0.3333, 0.3333, 0.3333],\n",
       "        [0.1000, 0.4000, 0.5000]])"
      ]
     },
     "execution_count": 53,
     "metadata": {},
     "output_type": "execute_result"
    }
   ],
   "source": [
    "y_out[y_entr>threshold]"
   ]
  },
  {
   "cell_type": "code",
   "execution_count": 88,
   "id": "6fe923ac",
   "metadata": {},
   "outputs": [],
   "source": [
    "total_remain_idx = torch.ones(batch_size, dtype=torch.bool)\n"
   ]
  },
  {
   "cell_type": "code",
   "execution_count": 96,
   "id": "3c920263",
   "metadata": {},
   "outputs": [
    {
     "data": {
      "text/plain": [
       "1"
      ]
     },
     "execution_count": 96,
     "metadata": {},
     "output_type": "execute_result"
    }
   ],
   "source": [
    "total_remain_idx[[True,False,False,False]].size(0) == 0"
   ]
  },
  {
   "cell_type": "code",
   "execution_count": 9,
   "id": "9aa4e615",
   "metadata": {},
   "outputs": [
    {
     "name": "stderr",
     "output_type": "stream",
     "text": [
      "Using custom data configuration default\n",
      "Reusing dataset ag_news (/home/user/.cache/huggingface/datasets/ag_news/default/0.0.0/bc2bcb40336ace1a0374767fc29bb0296cdaf8a6da7298436239c54d79180548)\n",
      "Using custom data configuration default\n",
      "Reusing dataset ag_news (/home/user/.cache/huggingface/datasets/ag_news/default/0.0.0/bc2bcb40336ace1a0374767fc29bb0296cdaf8a6da7298436239c54d79180548)\n",
      "Using custom data configuration default\n",
      "Reusing dataset ag_news (/home/user/.cache/huggingface/datasets/ag_news/default/0.0.0/bc2bcb40336ace1a0374767fc29bb0296cdaf8a6da7298436239c54d79180548)\n"
     ]
    }
   ],
   "source": [
    "from datasets import load_dataset\n",
    "train_data = load_dataset('dbpedia_14', split='train')\n",
    "valid_data = load_dataset('dbpedia_14', split='test[:50%]')\n",
    "test_data = load_dataset('dbpedia_14', split='test[50%:]')"
   ]
  },
  {
   "cell_type": "code",
   "execution_count": 25,
   "id": "a0e1bb6a",
   "metadata": {},
   "outputs": [
    {
     "name": "stderr",
     "output_type": "stream",
     "text": [
      "Reusing dataset dbpedia_14 (/home/user/.cache/huggingface/datasets/dbpedia_14/dbpedia_14/2.0.0/01dab9e10d969eadcdbc918be5a09c9190a24caeae33b10eee8f367a1e3f1f0c)\n",
      "Reusing dataset dbpedia_14 (/home/user/.cache/huggingface/datasets/dbpedia_14/dbpedia_14/2.0.0/01dab9e10d969eadcdbc918be5a09c9190a24caeae33b10eee8f367a1e3f1f0c)\n",
      "Loading cached shuffled indices for dataset at /home/user/.cache/huggingface/datasets/dbpedia_14/dbpedia_14/2.0.0/01dab9e10d969eadcdbc918be5a09c9190a24caeae33b10eee8f367a1e3f1f0c/cache-68e93457c310e291.arrow\n"
     ]
    }
   ],
   "source": [
    "from datasets import load_dataset\n",
    "train_data = load_dataset('dbpedia_14', split='train')\n",
    "test_data = load_dataset('dbpedia_14', split='test').shuffle(seed=35)\n",
    "\n",
    "split_size = int(test_data.num_rows*0.5)\n",
    "valid_data = test_data[:split_size]\n",
    "test_data = test_data[split_size:]\n"
   ]
  },
  {
   "cell_type": "code",
   "execution_count": 41,
   "id": "0f1d225b",
   "metadata": {},
   "outputs": [],
   "source": [
    "import pandas as pd\n",
    "from sklearn.model_selection import train_test_split\n",
    "\n",
    "class_num = 2\n",
    "df = pd.read_csv('./IMDB_Dataset.csv')\n",
    "df['cleaned_reviews'] = df['review']\n",
    "corpus = [word for text in df['cleaned_reviews'] for word in text.split()]\n",
    "text = [t for t in df['cleaned_reviews']]\n",
    "label = []\n",
    "for t in df['sentiment']:\n",
    "    if t == 'negative':\n",
    "        label.append(1)\n",
    "    else:\n",
    "        label.append(0)\n",
    "\n",
    "clean_train, clean_test, train_label, test_label = train_test_split(text, label, test_size=0.2, random_state=35)\n",
    "clean_valid, clean_test, valid_label, test_label = train_test_split(clean_test, test_label, test_size=0.5, random_state=35)"
   ]
  },
  {
   "cell_type": "code",
   "execution_count": 40,
   "id": "a0e2e6c1",
   "metadata": {},
   "outputs": [
    {
     "name": "stdout",
     "output_type": "stream",
     "text": [
      "0    20050\n",
      "1    19950\n",
      "dtype: int64\n",
      "1    4035\n",
      "0    3965\n",
      "dtype: int64\n",
      "1    1015\n",
      "0     985\n",
      "dtype: int64\n",
      "40000\n",
      "8000\n",
      "2000\n",
      "40000\n",
      "8000\n",
      "2000\n"
     ]
    }
   ],
   "source": [
    "import pandas\n",
    "print(pandas.DataFrame(train_label).value_counts())\n",
    "print(pandas.DataFrame(valid_label).value_counts())\n",
    "print(pandas.DataFrame(test_label).value_counts())\n",
    "print(len(clean_train))\n",
    "print(len(clean_valid))\n",
    "print(len(clean_test))\n",
    "print(len(train_label))\n",
    "print(len(valid_label))\n",
    "print(len(test_label))"
   ]
  },
  {
   "cell_type": "code",
   "execution_count": 28,
   "id": "89f2f66e",
   "metadata": {},
   "outputs": [
    {
     "data": {
      "text/plain": [
       "2     2577\n",
       "3     2550\n",
       "13    2549\n",
       "5     2538\n",
       "7     2532\n",
       "6     2531\n",
       "12    2513\n",
       "10    2482\n",
       "0     2472\n",
       "1     2456\n",
       "4     2453\n",
       "9     2453\n",
       "8     2449\n",
       "11    2445\n",
       "dtype: int64"
      ]
     },
     "execution_count": 28,
     "metadata": {},
     "output_type": "execute_result"
    }
   ],
   "source": [
    "import pandas\n",
    "pandas.DataFrame(test_data['label']).value_counts()\n"
   ]
  },
  {
   "cell_type": "code",
   "execution_count": 19,
   "id": "fc84ad95",
   "metadata": {},
   "outputs": [
    {
     "data": {
      "text/plain": [
       "3    1541\n",
       "0    1532\n",
       "1    1507\n",
       "2    1500\n",
       "dtype: int64"
      ]
     },
     "execution_count": 19,
     "metadata": {},
     "output_type": "execute_result"
    }
   ],
   "source": [
    "import pandas\n",
    "pandas.DataFrame(test_data['label']).value_counts()\n"
   ]
  },
  {
   "cell_type": "code",
   "execution_count": 22,
   "id": "78cb52e5",
   "metadata": {},
   "outputs": [
    {
     "data": {
      "text/plain": [
       "2    400\n",
       "1    393\n",
       "0    368\n",
       "3    359\n",
       "dtype: int64"
      ]
     },
     "execution_count": 22,
     "metadata": {},
     "output_type": "execute_result"
    }
   ],
   "source": [
    "import pandas\n",
    "pandas.DataFrame(test_data['label']).value_counts()"
   ]
  },
  {
   "cell_type": "code",
   "execution_count": null,
   "id": "a9a70d3f",
   "metadata": {},
   "outputs": [],
   "source": []
  }
 ],
 "metadata": {
  "kernelspec": {
   "display_name": "base",
   "language": "python",
   "name": "python3"
  },
  "language_info": {
   "codemirror_mode": {
    "name": "ipython",
    "version": 3
   },
   "file_extension": ".py",
   "mimetype": "text/x-python",
   "name": "python",
   "nbconvert_exporter": "python",
   "pygments_lexer": "ipython3",
   "version": "3.9.12"
  },
  "vscode": {
   "interpreter": {
    "hash": "d4d1e4263499bec80672ea0156c357c1ee493ec2b1c70f0acce89fc37c4a6abe"
   }
  }
 },
 "nbformat": 4,
 "nbformat_minor": 5
}
