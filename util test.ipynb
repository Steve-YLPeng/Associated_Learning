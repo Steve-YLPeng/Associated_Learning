{
 "cells": [
  {
   "cell_type": "code",
   "execution_count": null,
   "id": "a3437450",
   "metadata": {},
   "outputs": [],
   "source": [
    "import torch\n",
    "import math\n",
    "x = torch.tensor([[1/3,1/3,1/3],[1.,.0,.0],[.1,.4,.5],[.1,.1,.8]], dtype=torch.float32)\n",
    "batch_size = 4\n",
    "label_size = 3\n",
    "threshold = 0.75"
   ]
  },
  {
   "cell_type": "code",
   "execution_count": null,
   "id": "ba1e2d71",
   "metadata": {},
   "outputs": [],
   "source": [
    "\n",
    "entr = torch.ones(batch_size, requires_grad=False) #[batch_size] \n",
    "pred = torch.zeros((batch_size,label_size), requires_grad=False) #[batch_size, label_size]\n",
    "total_remain_idx = torch.ones(batch_size, dtype=torch.bool) #[batch_size]"
   ]
  },
  {
   "cell_type": "code",
   "execution_count": null,
   "id": "42295a15",
   "metadata": {},
   "outputs": [],
   "source": [
    "x_out = x\n",
    "#for idx in range(self.num_layer):\n",
    "for idx in range(5):\n",
    "    # f forward\n",
    "    #x_out = self.layer_forward(x_out, idx, mask)\n",
    "    # return form b/h\n",
    "    #y_out = self.bridge_return(x_out, idx, mask)\n",
    "    y_out = torch.rand(x_out.size())\n",
    "\n",
    "    y_entr = torch.sum(torch.special.entr(y_out),dim=-1) / math.log(y_out.size(-1))\n",
    "\n",
    "    total_remain_idx = entr>threshold\n",
    "    entr[total_remain_idx] = y_entr\n",
    "    pred[total_remain_idx,:] = y_out\n",
    "    \n",
    "    remain_idx = y_entr>threshold\n",
    "    print(f\"\\n{idx}\")\n",
    "    print(\"total\",total_remain_idx)\n",
    "    print(\"remain\",remain_idx)\n",
    "    print(\"entr\",entr)\n",
    "    print(\"pred\",pred)\n",
    "    print(\"x\",x_out)\n",
    "    x_out = x_out[remain_idx,:]\n",
    "    \n",
    "    \n",
    "    print(\"x_remain\",x_out)\n",
    "    if x_out.size(0) == 0:\n",
    "        break\n"
   ]
  },
  {
   "cell_type": "code",
   "execution_count": null,
   "id": "6d777668",
   "metadata": {},
   "outputs": [],
   "source": [
    "y_out[y_entr>threshold]"
   ]
  },
  {
   "cell_type": "code",
   "execution_count": null,
   "id": "6fe923ac",
   "metadata": {},
   "outputs": [],
   "source": [
    "total_remain_idx = torch.ones(batch_size, dtype=torch.bool)\n"
   ]
  },
  {
   "cell_type": "code",
   "execution_count": null,
   "id": "3c920263",
   "metadata": {},
   "outputs": [],
   "source": [
    "total_remain_idx[[True,False,False,False]].size(0) == 0"
   ]
  },
  {
   "cell_type": "code",
   "execution_count": null,
   "id": "9aa4e615",
   "metadata": {},
   "outputs": [],
   "source": [
    "from datasets import load_dataset\n",
    "train_data = load_dataset('dbpedia_14', split='train')\n",
    "valid_data = load_dataset('dbpedia_14', split='test[:50%]')\n",
    "test_data = load_dataset('dbpedia_14', split='test[50%:]')"
   ]
  },
  {
   "cell_type": "code",
   "execution_count": null,
   "id": "a0e1bb6a",
   "metadata": {},
   "outputs": [],
   "source": [
    "from datasets import load_dataset\n",
    "train_data = load_dataset('dbpedia_14', split='train')\n",
    "test_data = load_dataset('dbpedia_14', split='test').shuffle(seed=35)\n",
    "\n",
    "\n",
    "split_size = int(test_data.num_rows*0.5)\n",
    "valid_data = test_data[:split_size]\n",
    "test_data = test_data[split_size:]\n",
    "\n",
    "train_text = [b['content'] for b in train_data]\n",
    "train_label = [b['label'] for b in train_data]"
   ]
  },
  {
   "cell_type": "code",
   "execution_count": null,
   "id": "814821a6",
   "metadata": {},
   "outputs": [],
   "source": [
    "type(test_data['label'])"
   ]
  },
  {
   "cell_type": "code",
   "execution_count": null,
   "id": "2ec52c94",
   "metadata": {},
   "outputs": [],
   "source": [
    "len(test_data['label'])\n",
    "\n",
    "for i in test_data.keys():\n",
    "    print(i)\n",
    "\n",
    "\n",
    "\n",
    "\n",
    "\n"
   ]
  },
  {
   "cell_type": "code",
   "execution_count": null,
   "id": "0f1d225b",
   "metadata": {},
   "outputs": [],
   "source": [
    "import pandas as pd\n",
    "from sklearn.model_selection import train_test_split\n",
    "\n",
    "class_num = 2\n",
    "df = pd.read_csv('./IMDB_Dataset.csv')\n",
    "df['cleaned_reviews'] = df['review']\n",
    "corpus = [word for text in df['cleaned_reviews'] for word in text.split()]\n",
    "text = [t for t in df['cleaned_reviews']]\n",
    "label = []\n",
    "for t in df['sentiment']:\n",
    "    if t == 'negative':\n",
    "        label.append(1)\n",
    "    else:\n",
    "        label.append(0)\n",
    "\n",
    "clean_train, clean_test, train_label, test_label = train_test_split(text, label, test_size=0.2, random_state=35)\n",
    "clean_valid, clean_test, valid_label, test_label = train_test_split(clean_test, test_label, test_size=0.5, random_state=35)"
   ]
  },
  {
   "cell_type": "code",
   "execution_count": null,
   "id": "a0e2e6c1",
   "metadata": {},
   "outputs": [],
   "source": [
    "import pandas\n",
    "print(pandas.DataFrame(train_label).value_counts())\n",
    "print(pandas.DataFrame(valid_label).value_counts())\n",
    "print(pandas.DataFrame(test_label).value_counts())\n",
    "print(len(clean_train))\n",
    "print(len(clean_valid))\n",
    "print(len(clean_test))\n",
    "print(len(train_label))\n",
    "print(len(valid_label))\n",
    "print(len(test_label))"
   ]
  }
 ],
 "metadata": {
  "kernelspec": {
   "display_name": "base",
   "language": "python",
   "name": "python3"
  },
  "language_info": {
   "codemirror_mode": {
    "name": "ipython",
    "version": 3
   },
   "file_extension": ".py",
   "mimetype": "text/x-python",
   "name": "python",
   "nbconvert_exporter": "python",
   "pygments_lexer": "ipython3",
   "version": "3.9.12"
  },
  "vscode": {
   "interpreter": {
    "hash": "d4d1e4263499bec80672ea0156c357c1ee493ec2b1c70f0acce89fc37c4a6abe"
   }
  }
 },
 "nbformat": 4,
 "nbformat_minor": 5
}
