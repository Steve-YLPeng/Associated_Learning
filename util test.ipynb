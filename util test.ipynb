{
 "cells": [
  {
   "cell_type": "code",
   "execution_count": 119,
   "id": "a3437450",
   "metadata": {},
   "outputs": [],
   "source": [
    "import torch\n",
    "import math\n",
    "x = torch.tensor([[1/3,1/3,1/3],[1.,.0,.0],[.1,.4,.5],[.1,.1,.8]], dtype=torch.float32)\n",
    "batch_size = 4\n",
    "label_size = 3\n",
    "threshold = 0.75"
   ]
  },
  {
   "cell_type": "code",
   "execution_count": 120,
   "id": "ba1e2d71",
   "metadata": {},
   "outputs": [],
   "source": [
    "\n",
    "entr = torch.ones(batch_size, requires_grad=False) #[batch_size] \n",
    "pred = torch.zeros((batch_size,label_size), requires_grad=False) #[batch_size, label_size]\n",
    "total_remain_idx = torch.ones(batch_size, dtype=torch.bool) #[batch_size]"
   ]
  },
  {
   "cell_type": "code",
   "execution_count": 121,
   "id": "42295a15",
   "metadata": {},
   "outputs": [
    {
     "name": "stdout",
     "output_type": "stream",
     "text": [
      "\n",
      "0\n",
      "total tensor([True, True, True, True])\n",
      "remain tensor([False,  True, False, False])\n",
      "entr tensor([0.6301, 0.8748, 0.6448, 0.7467])\n",
      "pred tensor([[0.1885, 0.6032, 0.9243],\n",
      "        [0.6999, 0.4833, 0.4469],\n",
      "        [0.3601, 0.6562, 0.9337],\n",
      "        [0.1973, 0.4342, 0.8504]])\n",
      "x tensor([[0.3333, 0.3333, 0.3333],\n",
      "        [1.0000, 0.0000, 0.0000],\n",
      "        [0.1000, 0.4000, 0.5000],\n",
      "        [0.1000, 0.1000, 0.8000]])\n",
      "x_remain tensor([[1., 0., 0.]])\n",
      "\n",
      "1\n",
      "total tensor([False,  True, False, False])\n",
      "remain tensor([False])\n",
      "entr tensor([0.6301, 0.6062, 0.6448, 0.7467])\n",
      "pred tensor([[0.1885, 0.6032, 0.9243],\n",
      "        [0.4177, 0.0882, 0.9086],\n",
      "        [0.3601, 0.6562, 0.9337],\n",
      "        [0.1973, 0.4342, 0.8504]])\n",
      "x tensor([[1., 0., 0.]])\n",
      "x_remain tensor([], size=(0, 3))\n"
     ]
    }
   ],
   "source": [
    "x_out = x\n",
    "#for idx in range(self.num_layer):\n",
    "for idx in range(5):\n",
    "    # f forward\n",
    "    #x_out = self.layer_forward(x_out, idx, mask)\n",
    "    # return form b/h\n",
    "    #y_out = self.bridge_return(x_out, idx, mask)\n",
    "    y_out = torch.rand(x_out.size())\n",
    "\n",
    "    y_entr = torch.sum(torch.special.entr(y_out),dim=-1) / math.log(y_out.size(-1))\n",
    "\n",
    "    total_remain_idx = entr>threshold\n",
    "    entr[total_remain_idx] = y_entr\n",
    "    pred[total_remain_idx,:] = y_out\n",
    "    \n",
    "    remain_idx = y_entr>threshold\n",
    "    print(f\"\\n{idx}\")\n",
    "    print(\"total\",total_remain_idx)\n",
    "    print(\"remain\",remain_idx)\n",
    "    print(\"entr\",entr)\n",
    "    print(\"pred\",pred)\n",
    "    print(\"x\",x_out)\n",
    "    x_out = x_out[remain_idx,:]\n",
    "    \n",
    "    \n",
    "    print(\"x_remain\",x_out)\n",
    "    if x_out.size(0) == 0:\n",
    "        break\n"
   ]
  },
  {
   "cell_type": "code",
   "execution_count": 53,
   "id": "6d777668",
   "metadata": {},
   "outputs": [
    {
     "data": {
      "text/plain": [
       "tensor([[0.3333, 0.3333, 0.3333],\n",
       "        [0.1000, 0.4000, 0.5000]])"
      ]
     },
     "execution_count": 53,
     "metadata": {},
     "output_type": "execute_result"
    }
   ],
   "source": [
    "y_out[y_entr>threshold]"
   ]
  },
  {
   "cell_type": "code",
   "execution_count": 88,
   "id": "6fe923ac",
   "metadata": {},
   "outputs": [],
   "source": [
    "total_remain_idx = torch.ones(batch_size, dtype=torch.bool)\n"
   ]
  },
  {
   "cell_type": "code",
   "execution_count": 96,
   "id": "3c920263",
   "metadata": {},
   "outputs": [
    {
     "data": {
      "text/plain": [
       "1"
      ]
     },
     "execution_count": 96,
     "metadata": {},
     "output_type": "execute_result"
    }
   ],
   "source": [
    "total_remain_idx[[True,False,False,False]].size(0) == 0"
   ]
  },
  {
   "cell_type": "code",
   "execution_count": null,
   "id": "9aa4e615",
   "metadata": {},
   "outputs": [],
   "source": []
  }
 ],
 "metadata": {
  "kernelspec": {
   "display_name": "base",
   "language": "python",
   "name": "python3"
  },
  "language_info": {
   "codemirror_mode": {
    "name": "ipython",
    "version": 3
   },
   "file_extension": ".py",
   "mimetype": "text/x-python",
   "name": "python",
   "nbconvert_exporter": "python",
   "pygments_lexer": "ipython3",
   "version": "3.9.12"
  },
  "vscode": {
   "interpreter": {
    "hash": "d4d1e4263499bec80672ea0156c357c1ee493ec2b1c70f0acce89fc37c4a6abe"
   }
  }
 },
 "nbformat": 4,
 "nbformat_minor": 5
}
