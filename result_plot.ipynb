{
 "cells": [
  {
   "cell_type": "code",
   "execution_count": 83,
   "id": "89e97f48",
   "metadata": {},
   "outputs": [],
   "source": [
    "import pandas as pd\n",
    "import re\n",
    "\n",
    "data = \"dbpedia_14\"\n",
    "text_len = 60\n",
    "model = \"transformeral\"\n",
    "layer = 5\n",
    "epoch = 10\n",
    "lr = 0.0001\n",
    "fix_previous_layer = True\n",
    "#for mask in range(1,1+layer):\n",
    "mask = 5\n",
    "save_path = f\"ckpt/{data}_{model}_l{layer}_pad{text_len}_m{mask}/\"  \n",
    "#load_path = f\"ckpt/{data}_{model}_l{layer}_pad{text_len}_m{mask-1}/\" \n",
    "out_path = f\"result/0117/fix train adapt/{data}_{model}_l{layer}ad_pad{text_len}_m{mask}/\"\n",
    "log = f\"{out_path}/{data}_{model}_l{layer}.log\"\n",
    "\n",
    "with open(log,mode='r') as log:\n",
    "    buffer = log.readlines()\n",
    "    df = pd.DataFrame(buffer,columns=[\"log\"])\n",
    "    df"
   ]
  },
  {
   "cell_type": "code",
   "execution_count": 85,
   "id": "9491a649",
   "metadata": {},
   "outputs": [
    {
     "name": "stdout",
     "output_type": "stream",
     "text": [
      "Test Epoch0 threshold 0.1 Acc 0.9756714285714285, AUC 0.9981935620307922, avg_entr 0.004088811110705137\n",
      "['0.1', '0.9756714285714285', '0.9981935620307922', '0.004088811110705137']\n",
      "Test Epoch0 threshold 0.2 Acc 0.9747428571428571, AUC 0.9983512759208679, avg_entr 0.008886891417205334\n",
      "['0.2', '0.9747428571428571', '0.9983512759208679', '0.008886891417205334']\n",
      "Test Epoch0 threshold 0.3 Acc 0.9745857142857143, AUC 0.9983507394790649, avg_entr 0.009163127280771732\n",
      "['0.3', '0.9745857142857143', '0.9983507394790649', '0.009163127280771732']\n",
      "Test Epoch0 threshold 0.4 Acc 0.9745857142857143, AUC 0.9983507394790649, avg_entr 0.009163127280771732\n",
      "['0.4', '0.9745857142857143', '0.9983507394790649', '0.009163127280771732']\n",
      "Test Epoch0 threshold 0.5 Acc 0.9745857142857143, AUC 0.9983507394790649, avg_entr 0.009163127280771732\n",
      "['0.5', '0.9745857142857143', '0.9983507394790649', '0.009163127280771732']\n",
      "Test Epoch0 threshold 0.6 Acc 0.9745857142857143, AUC 0.9983507394790649, avg_entr 0.009163127280771732\n",
      "['0.6', '0.9745857142857143', '0.9983507394790649', '0.009163127280771732']\n",
      "Test Epoch0 threshold 0.7 Acc 0.9745857142857143, AUC 0.9983507394790649, avg_entr 0.009163127280771732\n",
      "['0.7', '0.9745857142857143', '0.9983507394790649', '0.009163127280771732']\n",
      "Test Epoch0 threshold 0.8 Acc 0.9745857142857143, AUC 0.9983507394790649, avg_entr 0.009163127280771732\n",
      "['0.8', '0.9745857142857143', '0.9983507394790649', '0.009163127280771732']\n",
      "Test Epoch0 threshold 0.9 Acc 0.9745857142857143, AUC 0.9983507394790649, avg_entr 0.009163127280771732\n",
      "['0.9', '0.9745857142857143', '0.9983507394790649', '0.009163127280771732']\n",
      "Test Epoch1 threshold 0.1 Acc 0.9766, AUC 0.998191773891449, avg_entr 0.0039629326201975346\n",
      "['0.1', '0.9766', '0.998191773891449', '0.0039629326201975346']\n",
      "Test Epoch1 threshold 0.2 Acc 0.9752857142857143, AUC 0.9983742833137512, avg_entr 0.00871763564646244\n",
      "['0.2', '0.9752857142857143', '0.9983742833137512', '0.00871763564646244']\n",
      "Test Epoch1 threshold 0.3 Acc 0.9749857142857142, AUC 0.9983730316162109, avg_entr 0.009030143730342388\n",
      "['0.3', '0.9749857142857142', '0.9983730316162109', '0.009030143730342388']\n",
      "Test Epoch1 threshold 0.4 Acc 0.9749857142857142, AUC 0.9983730316162109, avg_entr 0.009030143730342388\n",
      "['0.4', '0.9749857142857142', '0.9983730316162109', '0.009030143730342388']\n",
      "Test Epoch1 threshold 0.5 Acc 0.9749857142857142, AUC 0.9983730316162109, avg_entr 0.009030143730342388\n",
      "['0.5', '0.9749857142857142', '0.9983730316162109', '0.009030143730342388']\n",
      "Test Epoch1 threshold 0.6 Acc 0.9749857142857142, AUC 0.9983730316162109, avg_entr 0.009030143730342388\n",
      "['0.6', '0.9749857142857142', '0.9983730316162109', '0.009030143730342388']\n",
      "Test Epoch1 threshold 0.7 Acc 0.9749857142857142, AUC 0.9983730316162109, avg_entr 0.009030143730342388\n",
      "['0.7', '0.9749857142857142', '0.9983730316162109', '0.009030143730342388']\n",
      "Test Epoch1 threshold 0.8 Acc 0.9749857142857142, AUC 0.9983730316162109, avg_entr 0.009030143730342388\n",
      "['0.8', '0.9749857142857142', '0.9983730316162109', '0.009030143730342388']\n",
      "Test Epoch1 threshold 0.9 Acc 0.9749857142857142, AUC 0.9983730316162109, avg_entr 0.009030143730342388\n",
      "['0.9', '0.9749857142857142', '0.9983730316162109', '0.009030143730342388']\n",
      "Test Epoch2 threshold 0.1 Acc 0.9765714285714285, AUC 0.9982234239578247, avg_entr 0.0040420168079435825\n",
      "['0.1', '0.9765714285714285', '0.9982234239578247', '0.0040420168079435825']\n",
      "Test Epoch2 threshold 0.2 Acc 0.9752571428571428, AUC 0.9983600378036499, avg_entr 0.008761409670114517\n",
      "['0.2', '0.9752571428571428', '0.9983600378036499', '0.008761409670114517']\n",
      "Test Epoch2 threshold 0.3 Acc 0.9749857142857142, AUC 0.9983593225479126, avg_entr 0.009068913757801056\n",
      "['0.3', '0.9749857142857142', '0.9983593225479126', '0.009068913757801056']\n",
      "Test Epoch2 threshold 0.4 Acc 0.9749857142857142, AUC 0.9983593225479126, avg_entr 0.009068913757801056\n",
      "['0.4', '0.9749857142857142', '0.9983593225479126', '0.009068913757801056']\n",
      "Test Epoch2 threshold 0.5 Acc 0.9749857142857142, AUC 0.9983593225479126, avg_entr 0.009068913757801056\n",
      "['0.5', '0.9749857142857142', '0.9983593225479126', '0.009068913757801056']\n",
      "Test Epoch2 threshold 0.6 Acc 0.9749857142857142, AUC 0.9983593225479126, avg_entr 0.009068913757801056\n",
      "['0.6', '0.9749857142857142', '0.9983593225479126', '0.009068913757801056']\n",
      "Test Epoch2 threshold 0.7 Acc 0.9749857142857142, AUC 0.9983593225479126, avg_entr 0.009068913757801056\n",
      "['0.7', '0.9749857142857142', '0.9983593225479126', '0.009068913757801056']\n",
      "Test Epoch2 threshold 0.8 Acc 0.9749857142857142, AUC 0.9983593225479126, avg_entr 0.009068913757801056\n",
      "['0.8', '0.9749857142857142', '0.9983593225479126', '0.009068913757801056']\n",
      "Test Epoch2 threshold 0.9 Acc 0.9749857142857142, AUC 0.9983593225479126, avg_entr 0.009068913757801056\n",
      "['0.9', '0.9749857142857142', '0.9983593225479126', '0.009068913757801056']\n",
      "Test Epoch3 threshold 0.1 Acc 0.9765142857142857, AUC 0.9982237815856934, avg_entr 0.004019969142973423\n",
      "['0.1', '0.9765142857142857', '0.9982237815856934', '0.004019969142973423']\n",
      "Test Epoch3 threshold 0.2 Acc 0.9752285714285714, AUC 0.9983593821525574, avg_entr 0.008762727491557598\n",
      "['0.2', '0.9752285714285714', '0.9983593821525574', '0.008762727491557598']\n",
      "Test Epoch3 threshold 0.3 Acc 0.9749428571428571, AUC 0.998359203338623, avg_entr 0.009063981473445892\n",
      "['0.3', '0.9749428571428571', '0.998359203338623', '0.009063981473445892']\n",
      "Test Epoch3 threshold 0.4 Acc 0.9749428571428571, AUC 0.998359203338623, avg_entr 0.009063981473445892\n",
      "['0.4', '0.9749428571428571', '0.998359203338623', '0.009063981473445892']\n",
      "Test Epoch3 threshold 0.5 Acc 0.9749428571428571, AUC 0.998359203338623, avg_entr 0.009063981473445892\n",
      "['0.5', '0.9749428571428571', '0.998359203338623', '0.009063981473445892']\n",
      "Test Epoch3 threshold 0.6 Acc 0.9749428571428571, AUC 0.998359203338623, avg_entr 0.009063981473445892\n",
      "['0.6', '0.9749428571428571', '0.998359203338623', '0.009063981473445892']\n",
      "Test Epoch3 threshold 0.7 Acc 0.9749428571428571, AUC 0.998359203338623, avg_entr 0.009063981473445892\n",
      "['0.7', '0.9749428571428571', '0.998359203338623', '0.009063981473445892']\n",
      "Test Epoch3 threshold 0.8 Acc 0.9749428571428571, AUC 0.998359203338623, avg_entr 0.009063981473445892\n",
      "['0.8', '0.9749428571428571', '0.998359203338623', '0.009063981473445892']\n",
      "Test Epoch3 threshold 0.9 Acc 0.9749428571428571, AUC 0.998359203338623, avg_entr 0.009063981473445892\n",
      "['0.9', '0.9749428571428571', '0.998359203338623', '0.009063981473445892']\n",
      "Test Epoch4 threshold 0.1 Acc 0.9764285714285714, AUC 0.9982139468193054, avg_entr 0.0040323780849576\n",
      "['0.1', '0.9764285714285714', '0.9982139468193054', '0.0040323780849576']\n",
      "Test Epoch4 threshold 0.2 Acc 0.9751857142857143, AUC 0.9983583688735962, avg_entr 0.00874357856810093\n",
      "['0.2', '0.9751857142857143', '0.9983583688735962', '0.00874357856810093']\n",
      "Test Epoch4 threshold 0.3 Acc 0.9748857142857142, AUC 0.998357892036438, avg_entr 0.009055311791598797\n",
      "['0.3', '0.9748857142857142', '0.998357892036438', '0.009055311791598797']\n",
      "Test Epoch4 threshold 0.4 Acc 0.9748857142857142, AUC 0.998357892036438, avg_entr 0.009055311791598797\n",
      "['0.4', '0.9748857142857142', '0.998357892036438', '0.009055311791598797']\n",
      "Test Epoch4 threshold 0.5 Acc 0.9748857142857142, AUC 0.998357892036438, avg_entr 0.009055311791598797\n",
      "['0.5', '0.9748857142857142', '0.998357892036438', '0.009055311791598797']\n",
      "Test Epoch4 threshold 0.6 Acc 0.9748857142857142, AUC 0.998357892036438, avg_entr 0.009055311791598797\n",
      "['0.6', '0.9748857142857142', '0.998357892036438', '0.009055311791598797']\n",
      "Test Epoch4 threshold 0.7 Acc 0.9748857142857142, AUC 0.998357892036438, avg_entr 0.009055311791598797\n",
      "['0.7', '0.9748857142857142', '0.998357892036438', '0.009055311791598797']\n",
      "Test Epoch4 threshold 0.8 Acc 0.9748857142857142, AUC 0.998357892036438, avg_entr 0.009055311791598797\n",
      "['0.8', '0.9748857142857142', '0.998357892036438', '0.009055311791598797']\n",
      "Test Epoch4 threshold 0.9 Acc 0.9748857142857142, AUC 0.998357892036438, avg_entr 0.009055311791598797\n",
      "['0.9', '0.9748857142857142', '0.998357892036438', '0.009055311791598797']\n",
      "Test Epoch5 threshold 0.1 Acc 0.9764571428571429, AUC 0.9982151985168457, avg_entr 0.004031179938465357\n",
      "['0.1', '0.9764571428571429', '0.9982151985168457', '0.004031179938465357']\n",
      "Test Epoch5 threshold 0.2 Acc 0.9752285714285714, AUC 0.9983586668968201, avg_entr 0.008753505535423756\n",
      "['0.2', '0.9752285714285714', '0.9983586668968201', '0.008753505535423756']\n",
      "Test Epoch5 threshold 0.3 Acc 0.9749285714285715, AUC 0.998357892036438, avg_entr 0.009062603116035461\n",
      "['0.3', '0.9749285714285715', '0.998357892036438', '0.009062603116035461']\n",
      "Test Epoch5 threshold 0.4 Acc 0.9749285714285715, AUC 0.998357892036438, avg_entr 0.009062603116035461\n",
      "['0.4', '0.9749285714285715', '0.998357892036438', '0.009062603116035461']\n",
      "Test Epoch5 threshold 0.5 Acc 0.9749285714285715, AUC 0.998357892036438, avg_entr 0.009062603116035461\n",
      "['0.5', '0.9749285714285715', '0.998357892036438', '0.009062603116035461']\n",
      "Test Epoch5 threshold 0.6 Acc 0.9749285714285715, AUC 0.998357892036438, avg_entr 0.009062603116035461\n",
      "['0.6', '0.9749285714285715', '0.998357892036438', '0.009062603116035461']\n",
      "Test Epoch5 threshold 0.7 Acc 0.9749285714285715, AUC 0.998357892036438, avg_entr 0.009062603116035461\n",
      "['0.7', '0.9749285714285715', '0.998357892036438', '0.009062603116035461']\n",
      "Test Epoch5 threshold 0.8 Acc 0.9749285714285715, AUC 0.998357892036438, avg_entr 0.009062603116035461\n",
      "['0.8', '0.9749285714285715', '0.998357892036438', '0.009062603116035461']\n",
      "Test Epoch5 threshold 0.9 Acc 0.9749285714285715, AUC 0.998357892036438, avg_entr 0.009062603116035461\n",
      "['0.9', '0.9749285714285715', '0.998357892036438', '0.009062603116035461']\n",
      "Test Epoch6 threshold 0.1 Acc 0.9764428571428572, AUC 0.9982152581214905, avg_entr 0.004033808130770922\n",
      "['0.1', '0.9764428571428572', '0.9982152581214905', '0.004033808130770922']\n",
      "Test Epoch6 threshold 0.2 Acc 0.9752142857142857, AUC 0.9983586072921753, avg_entr 0.008756166324019432\n",
      "['0.2', '0.9752142857142857', '0.9983586072921753', '0.008756166324019432']\n",
      "Test Epoch6 threshold 0.3 Acc 0.9749285714285715, AUC 0.9983579516410828, avg_entr 0.009062414988875389\n",
      "['0.3', '0.9749285714285715', '0.9983579516410828', '0.009062414988875389']\n",
      "Test Epoch6 threshold 0.4 Acc 0.9749285714285715, AUC 0.9983579516410828, avg_entr 0.009062414988875389\n",
      "['0.4', '0.9749285714285715', '0.9983579516410828', '0.009062414988875389']\n",
      "Test Epoch6 threshold 0.5 Acc 0.9749285714285715, AUC 0.9983579516410828, avg_entr 0.009062414988875389\n",
      "['0.5', '0.9749285714285715', '0.9983579516410828', '0.009062414988875389']\n",
      "Test Epoch6 threshold 0.6 Acc 0.9749285714285715, AUC 0.9983579516410828, avg_entr 0.009062414988875389\n",
      "['0.6', '0.9749285714285715', '0.9983579516410828', '0.009062414988875389']\n",
      "Test Epoch6 threshold 0.7 Acc 0.9749285714285715, AUC 0.9983579516410828, avg_entr 0.009062414988875389\n",
      "['0.7', '0.9749285714285715', '0.9983579516410828', '0.009062414988875389']\n",
      "Test Epoch6 threshold 0.8 Acc 0.9749285714285715, AUC 0.9983579516410828, avg_entr 0.009062414988875389\n",
      "['0.8', '0.9749285714285715', '0.9983579516410828', '0.009062414988875389']\n",
      "Test Epoch6 threshold 0.9 Acc 0.9749285714285715, AUC 0.9983579516410828, avg_entr 0.009062414988875389\n",
      "['0.9', '0.9749285714285715', '0.9983579516410828', '0.009062414988875389']\n",
      "Test Epoch7 threshold 0.1 Acc 0.9764428571428572, AUC 0.9982152581214905, avg_entr 0.004035244230180979\n",
      "['0.1', '0.9764428571428572', '0.9982152581214905', '0.004035244230180979']\n",
      "Test Epoch7 threshold 0.2 Acc 0.9752142857142857, AUC 0.9983586072921753, avg_entr 0.00875615980476141\n",
      "['0.2', '0.9752142857142857', '0.9983586072921753', '0.00875615980476141']\n",
      "Test Epoch7 threshold 0.3 Acc 0.9749285714285715, AUC 0.9983579516410828, avg_entr 0.009062403813004494\n",
      "['0.3', '0.9749285714285715', '0.9983579516410828', '0.009062403813004494']\n",
      "Test Epoch7 threshold 0.4 Acc 0.9749285714285715, AUC 0.9983579516410828, avg_entr 0.009062403813004494\n",
      "['0.4', '0.9749285714285715', '0.9983579516410828', '0.009062403813004494']\n",
      "Test Epoch7 threshold 0.5 Acc 0.9749285714285715, AUC 0.9983579516410828, avg_entr 0.009062403813004494\n",
      "['0.5', '0.9749285714285715', '0.9983579516410828', '0.009062403813004494']\n",
      "Test Epoch7 threshold 0.6 Acc 0.9749285714285715, AUC 0.9983579516410828, avg_entr 0.009062403813004494\n",
      "['0.6', '0.9749285714285715', '0.9983579516410828', '0.009062403813004494']\n",
      "Test Epoch7 threshold 0.7 Acc 0.9749285714285715, AUC 0.9983579516410828, avg_entr 0.009062403813004494\n",
      "['0.7', '0.9749285714285715', '0.9983579516410828', '0.009062403813004494']\n",
      "Test Epoch7 threshold 0.8 Acc 0.9749285714285715, AUC 0.9983579516410828, avg_entr 0.009062403813004494\n",
      "['0.8', '0.9749285714285715', '0.9983579516410828', '0.009062403813004494']\n",
      "Test Epoch7 threshold 0.9 Acc 0.9749285714285715, AUC 0.9983579516410828, avg_entr 0.009062403813004494\n",
      "['0.9', '0.9749285714285715', '0.9983579516410828', '0.009062403813004494']\n",
      "Test Epoch8 threshold 0.1 Acc 0.9764428571428572, AUC 0.99821537733078, avg_entr 0.0040352665819227695\n",
      "['0.1', '0.9764428571428572', '0.99821537733078', '0.0040352665819227695']\n",
      "Test Epoch8 threshold 0.2 Acc 0.9752142857142857, AUC 0.9983586072921753, avg_entr 0.008756152354180813\n",
      "['0.2', '0.9752142857142857', '0.9983586072921753', '0.008756152354180813']\n",
      "Test Epoch8 threshold 0.3 Acc 0.9749285714285715, AUC 0.9983579516410828, avg_entr 0.009062391705811024\n",
      "['0.3', '0.9749285714285715', '0.9983579516410828', '0.009062391705811024']\n",
      "Test Epoch8 threshold 0.4 Acc 0.9749285714285715, AUC 0.9983579516410828, avg_entr 0.009062391705811024\n",
      "['0.4', '0.9749285714285715', '0.9983579516410828', '0.009062391705811024']\n",
      "Test Epoch8 threshold 0.5 Acc 0.9749285714285715, AUC 0.9983579516410828, avg_entr 0.009062391705811024\n",
      "['0.5', '0.9749285714285715', '0.9983579516410828', '0.009062391705811024']\n",
      "Test Epoch8 threshold 0.6 Acc 0.9749285714285715, AUC 0.9983579516410828, avg_entr 0.009062391705811024\n",
      "['0.6', '0.9749285714285715', '0.9983579516410828', '0.009062391705811024']\n",
      "Test Epoch8 threshold 0.7 Acc 0.9749285714285715, AUC 0.9983579516410828, avg_entr 0.009062391705811024\n",
      "['0.7', '0.9749285714285715', '0.9983579516410828', '0.009062391705811024']\n",
      "Test Epoch8 threshold 0.8 Acc 0.9749285714285715, AUC 0.9983579516410828, avg_entr 0.009062391705811024\n",
      "['0.8', '0.9749285714285715', '0.9983579516410828', '0.009062391705811024']\n",
      "Test Epoch8 threshold 0.9 Acc 0.9749285714285715, AUC 0.9983579516410828, avg_entr 0.009062391705811024\n",
      "['0.9', '0.9749285714285715', '0.9983579516410828', '0.009062391705811024']\n",
      "Test Epoch9 threshold 0.1 Acc 0.9764428571428572, AUC 0.9982153177261353, avg_entr 0.004035369027405977\n",
      "['0.1', '0.9764428571428572', '0.9982153177261353', '0.004035369027405977']\n",
      "Test Epoch9 threshold 0.2 Acc 0.9752142857142857, AUC 0.9983586072921753, avg_entr 0.008756146766245365\n",
      "['0.2', '0.9752142857142857', '0.9983586072921753', '0.008756146766245365']\n",
      "Test Epoch9 threshold 0.3 Acc 0.9749285714285715, AUC 0.9983579516410828, avg_entr 0.009062378667294979\n",
      "['0.3', '0.9749285714285715', '0.9983579516410828', '0.009062378667294979']\n",
      "Test Epoch9 threshold 0.4 Acc 0.9749285714285715, AUC 0.9983579516410828, avg_entr 0.009062378667294979\n",
      "['0.4', '0.9749285714285715', '0.9983579516410828', '0.009062378667294979']\n",
      "Test Epoch9 threshold 0.5 Acc 0.9749285714285715, AUC 0.9983579516410828, avg_entr 0.009062378667294979\n",
      "['0.5', '0.9749285714285715', '0.9983579516410828', '0.009062378667294979']\n",
      "Test Epoch9 threshold 0.6 Acc 0.9749285714285715, AUC 0.9983579516410828, avg_entr 0.009062378667294979\n",
      "['0.6', '0.9749285714285715', '0.9983579516410828', '0.009062378667294979']\n",
      "Test Epoch9 threshold 0.7 Acc 0.9749285714285715, AUC 0.9983579516410828, avg_entr 0.009062378667294979\n",
      "['0.7', '0.9749285714285715', '0.9983579516410828', '0.009062378667294979']\n",
      "Test Epoch9 threshold 0.8 Acc 0.9749285714285715, AUC 0.9983579516410828, avg_entr 0.009062378667294979\n",
      "['0.8', '0.9749285714285715', '0.9983579516410828', '0.009062378667294979']\n",
      "Test Epoch9 threshold 0.9 Acc 0.9749285714285715, AUC 0.9983579516410828, avg_entr 0.009062378667294979\n",
      "['0.9', '0.9749285714285715', '0.9983579516410828', '0.009062378667294979']\n"
     ]
    }
   ],
   "source": [
    "class history(object):\n",
    "    def __init__(self):\n",
    "        self.auc = {}\n",
    "        self.acc = {}\n",
    "        self.entr = {}\n",
    "        for threshold in [0.1,0.2,0.3,0.4,0.5,0.6,0.7,0.8,0.9]:\n",
    "            self.auc[threshold] = []\n",
    "            self.acc[threshold] = []\n",
    "            self.entr[threshold] = []\n",
    "            \n",
    "result = history()\n",
    "for line in buffer:\n",
    "    match = re.match('Test Epoch(.)*', line)\n",
    "    if match!=None:\n",
    "        print(match.group())\n",
    "        match = re.findall(\"\\d?\\.\\d+\",match.group(0))\n",
    "        print(match)\n",
    "        threshold = float(match[0])\n",
    "        result.acc[threshold].append(match[1])\n",
    "        result.auc[threshold].append(match[2])\n",
    "        result.entr[threshold].append(match[3])"
   ]
  },
  {
   "cell_type": "code",
   "execution_count": 89,
   "id": "1ad5bb74",
   "metadata": {},
   "outputs": [
    {
     "name": "stdout",
     "output_type": "stream",
     "text": [
      "10\n",
      "10\n",
      "10\n",
      "10\n",
      "10\n",
      "10\n",
      "10\n",
      "10\n",
      "10\n",
      "10\n",
      "10\n",
      "10\n",
      "10\n",
      "10\n",
      "10\n",
      "10\n",
      "10\n",
      "10\n",
      "10\n",
      "10\n",
      "10\n",
      "10\n",
      "10\n",
      "10\n",
      "10\n",
      "10\n",
      "10\n"
     ]
    }
   ],
   "source": [
    "for threshold in [0.1,0.2,0.3,0.4,0.5,0.6,0.7,0.8,0.9]:\n",
    "    print(len(result.acc[threshold]))\n",
    "    print(len(result.auc[threshold]))\n",
    "    print(len(result.entr[threshold]))"
   ]
  },
  {
   "cell_type": "code",
   "execution_count": 67,
   "id": "9ca1178f",
   "metadata": {},
   "outputs": [
    {
     "ename": "AttributeError",
     "evalue": "'NoneType' object has no attribute 'group'",
     "output_type": "error",
     "traceback": [
      "\u001b[0;31m---------------------------------------------------------------------------\u001b[0m",
      "\u001b[0;31mAttributeError\u001b[0m                            Traceback (most recent call last)",
      "\u001b[1;32m/home/AL_main_new/result_plot.ipynb Cell 3\u001b[0m in \u001b[0;36m<cell line: 5>\u001b[0;34m()\u001b[0m\n\u001b[1;32m      <a href='vscode-notebook-cell://ssh-remote%2B140.115.59.235/home/AL_main_new/result_plot.ipynb#W1sdnNjb2RlLXJlbW90ZQ%3D%3D?line=2'>3</a>\u001b[0m     match \u001b[39m=\u001b[39m re\u001b[39m.\u001b[39mmatch(\u001b[39m'\u001b[39m\u001b[39mTest Epoch(.)*\u001b[39m\u001b[39m'\u001b[39m, x)\n\u001b[1;32m      <a href='vscode-notebook-cell://ssh-remote%2B140.115.59.235/home/AL_main_new/result_plot.ipynb#W1sdnNjb2RlLXJlbW90ZQ%3D%3D?line=3'>4</a>\u001b[0m     \u001b[39mreturn\u001b[39;00m match\u001b[39m.\u001b[39mgroup()\n\u001b[0;32m----> <a href='vscode-notebook-cell://ssh-remote%2B140.115.59.235/home/AL_main_new/result_plot.ipynb#W1sdnNjb2RlLXJlbW90ZQ%3D%3D?line=4'>5</a>\u001b[0m match \u001b[39m=\u001b[39m df[\u001b[39m\"\u001b[39m\u001b[39mlog\u001b[39m\u001b[39m\"\u001b[39m][df[\u001b[39m\"\u001b[39;49m\u001b[39mlog\u001b[39;49m\u001b[39m\"\u001b[39;49m]\u001b[39m.\u001b[39;49mapply(re_process)]\n\u001b[1;32m      <a href='vscode-notebook-cell://ssh-remote%2B140.115.59.235/home/AL_main_new/result_plot.ipynb#W1sdnNjb2RlLXJlbW90ZQ%3D%3D?line=5'>6</a>\u001b[0m \u001b[39mmatch\u001b[39;00m\n",
      "File \u001b[0;32m/opt/conda/lib/python3.9/site-packages/pandas/core/series.py:4357\u001b[0m, in \u001b[0;36mSeries.apply\u001b[0;34m(self, func, convert_dtype, args, **kwargs)\u001b[0m\n\u001b[1;32m   4247\u001b[0m \u001b[39mdef\u001b[39;00m \u001b[39mapply\u001b[39m(\n\u001b[1;32m   4248\u001b[0m     \u001b[39mself\u001b[39m,\n\u001b[1;32m   4249\u001b[0m     func: AggFuncType,\n\u001b[0;32m   (...)\u001b[0m\n\u001b[1;32m   4252\u001b[0m     \u001b[39m*\u001b[39m\u001b[39m*\u001b[39mkwargs,\n\u001b[1;32m   4253\u001b[0m ) \u001b[39m-\u001b[39m\u001b[39m>\u001b[39m FrameOrSeriesUnion:\n\u001b[1;32m   4254\u001b[0m     \u001b[39m\"\"\"\u001b[39;00m\n\u001b[1;32m   4255\u001b[0m \u001b[39m    Invoke function on values of Series.\u001b[39;00m\n\u001b[1;32m   4256\u001b[0m \n\u001b[0;32m   (...)\u001b[0m\n\u001b[1;32m   4355\u001b[0m \u001b[39m    dtype: float64\u001b[39;00m\n\u001b[1;32m   4356\u001b[0m \u001b[39m    \"\"\"\u001b[39;00m\n\u001b[0;32m-> 4357\u001b[0m     \u001b[39mreturn\u001b[39;00m SeriesApply(\u001b[39mself\u001b[39;49m, func, convert_dtype, args, kwargs)\u001b[39m.\u001b[39;49mapply()\n",
      "File \u001b[0;32m/opt/conda/lib/python3.9/site-packages/pandas/core/apply.py:1043\u001b[0m, in \u001b[0;36mSeriesApply.apply\u001b[0;34m(self)\u001b[0m\n\u001b[1;32m   1039\u001b[0m \u001b[39mif\u001b[39;00m \u001b[39misinstance\u001b[39m(\u001b[39mself\u001b[39m\u001b[39m.\u001b[39mf, \u001b[39mstr\u001b[39m):\n\u001b[1;32m   1040\u001b[0m     \u001b[39m# if we are a string, try to dispatch\u001b[39;00m\n\u001b[1;32m   1041\u001b[0m     \u001b[39mreturn\u001b[39;00m \u001b[39mself\u001b[39m\u001b[39m.\u001b[39mapply_str()\n\u001b[0;32m-> 1043\u001b[0m \u001b[39mreturn\u001b[39;00m \u001b[39mself\u001b[39;49m\u001b[39m.\u001b[39;49mapply_standard()\n",
      "File \u001b[0;32m/opt/conda/lib/python3.9/site-packages/pandas/core/apply.py:1098\u001b[0m, in \u001b[0;36mSeriesApply.apply_standard\u001b[0;34m(self)\u001b[0m\n\u001b[1;32m   1092\u001b[0m         values \u001b[39m=\u001b[39m obj\u001b[39m.\u001b[39mastype(\u001b[39mobject\u001b[39m)\u001b[39m.\u001b[39m_values\n\u001b[1;32m   1093\u001b[0m         \u001b[39m# error: Argument 2 to \"map_infer\" has incompatible type\u001b[39;00m\n\u001b[1;32m   1094\u001b[0m         \u001b[39m# \"Union[Callable[..., Any], str, List[Union[Callable[..., Any], str]],\u001b[39;00m\n\u001b[1;32m   1095\u001b[0m         \u001b[39m# Dict[Hashable, Union[Union[Callable[..., Any], str],\u001b[39;00m\n\u001b[1;32m   1096\u001b[0m         \u001b[39m# List[Union[Callable[..., Any], str]]]]]\"; expected\u001b[39;00m\n\u001b[1;32m   1097\u001b[0m         \u001b[39m# \"Callable[[Any], Any]\"\u001b[39;00m\n\u001b[0;32m-> 1098\u001b[0m         mapped \u001b[39m=\u001b[39m lib\u001b[39m.\u001b[39;49mmap_infer(\n\u001b[1;32m   1099\u001b[0m             values,\n\u001b[1;32m   1100\u001b[0m             f,  \u001b[39m# type: ignore[arg-type]\u001b[39;49;00m\n\u001b[1;32m   1101\u001b[0m             convert\u001b[39m=\u001b[39;49m\u001b[39mself\u001b[39;49m\u001b[39m.\u001b[39;49mconvert_dtype,\n\u001b[1;32m   1102\u001b[0m         )\n\u001b[1;32m   1104\u001b[0m \u001b[39mif\u001b[39;00m \u001b[39mlen\u001b[39m(mapped) \u001b[39mand\u001b[39;00m \u001b[39misinstance\u001b[39m(mapped[\u001b[39m0\u001b[39m], ABCSeries):\n\u001b[1;32m   1105\u001b[0m     \u001b[39m# GH 25959 use pd.array instead of tolist\u001b[39;00m\n\u001b[1;32m   1106\u001b[0m     \u001b[39m# so extension arrays can be used\u001b[39;00m\n\u001b[1;32m   1107\u001b[0m     \u001b[39mreturn\u001b[39;00m obj\u001b[39m.\u001b[39m_constructor_expanddim(pd_array(mapped), index\u001b[39m=\u001b[39mobj\u001b[39m.\u001b[39mindex)\n",
      "File \u001b[0;32m/opt/conda/lib/python3.9/site-packages/pandas/_libs/lib.pyx:2859\u001b[0m, in \u001b[0;36mpandas._libs.lib.map_infer\u001b[0;34m()\u001b[0m\n",
      "\u001b[1;32m/home/AL_main_new/result_plot.ipynb Cell 3\u001b[0m in \u001b[0;36mre_process\u001b[0;34m(x)\u001b[0m\n\u001b[1;32m      <a href='vscode-notebook-cell://ssh-remote%2B140.115.59.235/home/AL_main_new/result_plot.ipynb#W1sdnNjb2RlLXJlbW90ZQ%3D%3D?line=1'>2</a>\u001b[0m \u001b[39mdef\u001b[39;00m \u001b[39mre_process\u001b[39m(x):\n\u001b[1;32m      <a href='vscode-notebook-cell://ssh-remote%2B140.115.59.235/home/AL_main_new/result_plot.ipynb#W1sdnNjb2RlLXJlbW90ZQ%3D%3D?line=2'>3</a>\u001b[0m     match \u001b[39m=\u001b[39m re\u001b[39m.\u001b[39mmatch(\u001b[39m'\u001b[39m\u001b[39mTest Epoch(.)*\u001b[39m\u001b[39m'\u001b[39m, x)\n\u001b[0;32m----> <a href='vscode-notebook-cell://ssh-remote%2B140.115.59.235/home/AL_main_new/result_plot.ipynb#W1sdnNjb2RlLXJlbW90ZQ%3D%3D?line=3'>4</a>\u001b[0m     \u001b[39mreturn\u001b[39;00m match\u001b[39m.\u001b[39;49mgroup()\n",
      "\u001b[0;31mAttributeError\u001b[0m: 'NoneType' object has no attribute 'group'"
     ]
    }
   ],
   "source": [
    "\n",
    "def re_process(x):\n",
    "    match = re.match('Test Epoch(.)*', x)\n",
    "    return match.group()\n",
    "match = df[\"log\"][df[\"log\"].apply(re_process)]\n",
    "match"
   ]
  },
  {
   "cell_type": "code",
   "execution_count": 54,
   "id": "cc7e760b",
   "metadata": {},
   "outputs": [
    {
     "data": {
      "text/plain": [
       "'Test Epoch7 threshold 0.8 Acc 0.9749285714285715, AUC 0.9983579516410828, avg_entr 0.009062403813004494'"
      ]
     },
     "execution_count": 54,
     "metadata": {},
     "output_type": "execute_result"
    }
   ],
   "source": [
    "import re\n",
    "match = re.search('Test Epoch(.)*', 'Test Epoch7 threshold 0.8 Acc 0.9749285714285715, AUC 0.9983579516410828, avg_entr 0.009062403813004494')\n",
    "match.group(0)"
   ]
  },
  {
   "cell_type": "code",
   "execution_count": 75,
   "id": "fa3c6b5d",
   "metadata": {},
   "outputs": [
    {
     "ename": "TypeError",
     "evalue": "'float' object cannot be interpreted as an integer",
     "output_type": "error",
     "traceback": [
      "\u001b[0;31m---------------------------------------------------------------------------\u001b[0m",
      "\u001b[0;31mTypeError\u001b[0m                                 Traceback (most recent call last)",
      "\u001b[1;32m/home/AL_main_new/result_plot.ipynb Cell 5\u001b[0m in \u001b[0;36m<cell line: 1>\u001b[0;34m()\u001b[0m\n\u001b[0;32m----> <a href='vscode-notebook-cell://ssh-remote%2B140.115.59.235/home/AL_main_new/result_plot.ipynb#W4sdnNjb2RlLXJlbW90ZQ%3D%3D?line=0'>1</a>\u001b[0m \u001b[39mrange\u001b[39;49m(\u001b[39m0.1\u001b[39;49m,\u001b[39m0.1\u001b[39;49m,\u001b[39m0.9\u001b[39;49m)\n",
      "\u001b[0;31mTypeError\u001b[0m: 'float' object cannot be interpreted as an integer"
     ]
    }
   ],
   "source": []
  },
  {
   "cell_type": "code",
   "execution_count": 55,
   "id": "86f0eb16",
   "metadata": {},
   "outputs": [
    {
     "data": {
      "text/plain": [
       "['0.8', '0.9749285714285715', '0.9983579516410828', '0.009062403813004494']"
      ]
     },
     "execution_count": 55,
     "metadata": {},
     "output_type": "execute_result"
    }
   ],
   "source": [
    "match = re.findall(\"\\d?\\.\\d+\",match.group(0))\n",
    "match"
   ]
  },
  {
   "cell_type": "code",
   "execution_count": null,
   "id": "58d295c7",
   "metadata": {},
   "outputs": [],
   "source": []
  }
 ],
 "metadata": {
  "kernelspec": {
   "display_name": "Python 3.9.12 ('base')",
   "language": "python",
   "name": "python3"
  },
  "language_info": {
   "codemirror_mode": {
    "name": "ipython",
    "version": 3
   },
   "file_extension": ".py",
   "mimetype": "text/x-python",
   "name": "python",
   "nbconvert_exporter": "python",
   "pygments_lexer": "ipython3",
   "version": "3.9.12"
  },
  "vscode": {
   "interpreter": {
    "hash": "d4d1e4263499bec80672ea0156c357c1ee493ec2b1c70f0acce89fc37c4a6abe"
   }
  }
 },
 "nbformat": 4,
 "nbformat_minor": 5
}
