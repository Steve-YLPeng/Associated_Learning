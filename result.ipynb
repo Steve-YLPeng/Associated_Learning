{
 "cells": [
  {
   "cell_type": "code",
   "execution_count": 12,
   "id": "89e97f48",
   "metadata": {},
   "outputs": [],
   "source": [
    "import pandas as pd\n",
    "\n",
    "data = \"imdb\"\n",
    "model = \"linearalside\"\n",
    "side = 20\n",
    "layer = 5\n",
    "max_len = side*layer\n",
    "epoch = 100\n",
    "lr = 0.0001\n",
    "save_path = f\"ckpt/{data}_{model}_l{layer}_side{max_len}/\"\n",
    "out_path = f\"result/{data}_{model}_l{layer}_side{max_len}/\"\n",
    "log = f\"{out_path}/{data}_{model}_l{layer}.log\"\n",
    "with open(log,mode='r') as log:\n",
    "    buffer = log.readlines()\n",
    "    df = pd.DataFrame(buffer,columns=[\"log\"])\n",
    "    df"
   ]
  },
  {
   "cell_type": "code",
   "execution_count": 25,
   "id": "9ca1178f",
   "metadata": {},
   "outputs": [
    {
     "data": {
      "text/plain": [
       "5      Train Epoch0 Acc 0.5007 (20028/40000), AUC 0.5...\n",
       "6      Test Epoch0 layer0 Acc 0.4994, AUC 0.503163933...\n",
       "8      Test Epoch0 layer1 Acc 0.4999, AUC 0.506857275...\n",
       "10     Test Epoch0 layer2 Acc 0.4994, AUC 0.490074872...\n",
       "11     Test Epoch0 layer3 Acc 0.5001, AUC 0.499459713...\n",
       "                             ...                        \n",
       "744    Test Epoch99 layer2 Acc 0.7215, AUC 0.79581838...\n",
       "745    Test Epoch99 layer3 Acc 0.73, AUC 0.8094711303...\n",
       "746    Test Epoch99 layer4 Acc 0.7375, AUC 0.81499916...\n",
       "747                        Best AUC 0.8329015970230103\\n\n",
       "750                                 valid_AUC (5, 100)\\n\n",
       "Name: log, Length: 602, dtype: object"
      ]
     },
     "execution_count": 25,
     "metadata": {},
     "output_type": "execute_result"
    }
   ],
   "source": [
    "auc = df[\"log\"][df[\"log\"].apply(lambda row: 'AUC' in row)]\n",
    "auc"
   ]
  },
  {
   "cell_type": "code",
   "execution_count": null,
   "id": "cc7e760b",
   "metadata": {},
   "outputs": [],
   "source": []
  }
 ],
 "metadata": {
  "kernelspec": {
   "display_name": "Python 3.9.12 ('base')",
   "language": "python",
   "name": "python3"
  },
  "language_info": {
   "codemirror_mode": {
    "name": "ipython",
    "version": 3
   },
   "file_extension": ".py",
   "mimetype": "text/x-python",
   "name": "python",
   "nbconvert_exporter": "python",
   "pygments_lexer": "ipython3",
   "version": "3.9.12"
  },
  "vscode": {
   "interpreter": {
    "hash": "d4d1e4263499bec80672ea0156c357c1ee493ec2b1c70f0acce89fc37c4a6abe"
   }
  }
 },
 "nbformat": 4,
 "nbformat_minor": 5
}
